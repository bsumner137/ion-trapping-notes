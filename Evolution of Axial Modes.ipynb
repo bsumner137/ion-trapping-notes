{
 "cells": [
  {
   "cell_type": "markdown",
   "metadata": {},
   "source": [
    "# Evolution of Axial Modes\n",
    "\n",
    "In this notebook, we study the behavior and evolution of several axial normal modes.  Much of this is borrowed from [Dominic Meiser's Mode analysis examples](https://github.com/d-meiser/ion-trapping-notes/blob/master/Mode%20analysis%20examples.ipynb) and [Freericks' `mode_analysis_code`](https://github.com/d-meiser/ion-trapping-notes/blob/master/mode_analysis_code.py).\n",
    "\n",
    "**Table of Contents**  \n",
    "[Implementation](#Implementation)  \n",
    "[Kerr Effect](#Kerr)  \n",
    "&nbsp;&nbsp;&nbsp;&nbsp;[Initial Conditons](#IC)  \n",
    "&nbsp;&nbsp;&nbsp;&nbsp;[Evolution](#Evolution)  \n",
    "[Energy Comparisons](#EnergyComparisons)  \n"
   ]
  },
  {
   "cell_type": "markdown",
   "metadata": {},
   "source": [
    "## <a name=\"Implementation\"></a>Implementation"
   ]
  },
  {
   "cell_type": "code",
   "execution_count": 1,
   "metadata": {},
   "outputs": [],
   "source": [
    "%matplotlib notebook\n",
    "from matplotlib import rcParams, cycler\n",
    "import matplotlib.pyplot as plt\n",
    "import matplotlib.lines\n",
    "import numpy as np\n",
    "import pandas as pd\n",
    "import mode_analysis_code\n",
    "import coldatoms\n",
    "\n",
    "plt.style.use('ggplot')"
   ]
  },
  {
   "cell_type": "markdown",
   "metadata": {},
   "source": [
    "To look at the dynamics of the ion crystal we import Dominic's `coldatoms` library, and generate an ensemble from the equilibrium conditions of the crystal:"
   ]
  },
  {
   "cell_type": "code",
   "execution_count": 2,
   "metadata": {},
   "outputs": [],
   "source": [
    "def create_ensemble(uE, omega_z, mass, charge):\n",
    "    num_ions = int(uE.size / 2)\n",
    "    x = uE[:num_ions]\n",
    "    y = uE[num_ions:]\n",
    "    r = np.sqrt(x**2 + y**2)\n",
    "    r_hat = np.transpose(np.array([x / r, y / r]))\n",
    "    phi_hat = np.transpose(np.array([-y / r, x / r]))\n",
    "    v = np.zeros([num_ions, 2], dtype=np.float64)\n",
    "    for i in range(num_ions):\n",
    "        v[i, 0] = omega_z * r[i] * phi_hat[i, 0]\n",
    "        v[i, 1] = omega_z * r[i] * phi_hat[i, 1]\n",
    "    \n",
    "    ensemble = coldatoms.Ensemble(num_ions)\n",
    "    for i in range(num_ions):\n",
    "        ensemble.x[i, 0] = x[i]\n",
    "        ensemble.x[i, 1] = y[i]\n",
    "        ensemble.x[i, 2] = 0.0\n",
    "        ensemble.v[i, 0] = v[i, 0]\n",
    "        ensemble.v[i, 1] = v[i, 1]\n",
    "        ensemble.v[i, 2] = 0.0\n",
    "    \n",
    "    ensemble.ensemble_properties['mass'] = mass\n",
    "    ensemble.ensemble_properties['charge'] = charge\n",
    "    \n",
    "    return ensemble"
   ]
  },
  {
   "cell_type": "markdown",
   "metadata": {},
   "source": [
    "We must also incorporate the forces acting on the crystal.  As per [Mode analysis examples](https://github.com/d-meiser/ion-trapping-notes/blob/master/Mode%20analysis%20examples.ipynb):\n",
    "\n",
    "> the Coulomb force between the ions, the trap forces, and the laser cooling forces. The Lorentz force due to the axial magnetic field in the Penning trap will be treated separately as it is taken care of geometrically by our integrator.\n",
    "\n",
    "The integrator referenced being the `bend_kick` method found in the `coldatoms` library."
   ]
  },
  {
   "cell_type": "code",
   "execution_count": 3,
   "metadata": {},
   "outputs": [],
   "source": [
    "coulomb_force = coldatoms.CoulombForce()\n",
    "\n",
    "class TrapPotential(object):\n",
    "\n",
    "    def __init__(self, kz, delta, omega, phi_0):\n",
    "        self.kz = kz\n",
    "        self.kx = -(0.5 + delta) * kz\n",
    "        self.ky = -(0.5 - delta) * kz\n",
    "        self.phi_0 = phi_0\n",
    "        self.phi = phi_0\n",
    "        self.omega = omega\n",
    "\n",
    "    def reset_phase(self):\n",
    "        self.phi = self.phi_0\n",
    "            \n",
    "    def force(self, dt, ensemble, f):\n",
    "        self.phi += self.omega * 0.5 * dt\n",
    "        \n",
    "        q = ensemble.ensemble_properties['charge']\n",
    "        if q is None:\n",
    "            q = ensemble.particle_properties['charge']\n",
    "            if q is None:\n",
    "                raise RuntimeError('Must provide ensemble or per particle charge')\n",
    "\n",
    "        cphi = np.cos(self.phi)\n",
    "        sphi = np.sin(self.phi)\n",
    "        kx = self.kx\n",
    "        ky = self.ky\n",
    "        \n",
    "        x = ensemble.x[:, 0]\n",
    "        y = ensemble.x[:, 1]\n",
    "        z = ensemble.x[:, 2]\n",
    "        \n",
    "        f[:, 0] += dt * q * (\n",
    "            (-kx * cphi * cphi - ky * sphi * sphi) * x + cphi * sphi * (ky - kx) * y)\n",
    "        f[:, 1] += dt * q * (\n",
    "            cphi * sphi * (ky - kx) * x + (-kx * sphi * sphi - ky * cphi * cphi) * y)\n",
    "        f[:, 2] += -dt * q *self.kz * z\n",
    "\n",
    "        self.phi += self.omega * 0.5 * dt\n",
    "\n",
    "def evolve_ensemble(dt, t_max, ensemble, Bz, forces):\n",
    "    num_steps = int(t_max / dt)\n",
    "    coldatoms.bend_kick(dt, Bz, ensemble, forces, num_steps=num_steps)\n",
    "    coldatoms.bend_kick(t_max - num_steps * dt, Bz, ensemble, forces)"
   ]
  },
  {
   "cell_type": "markdown",
   "metadata": {},
   "source": [
    "## <a name=\"Kerr\"></a>Kerr Effect Simulations\n",
    "\n",
    "Now that the necessary code is in place, we can begin looking at the evolution of normal modes.  We start by generating an ensemble of ions.  The numbers given below are used to represent the [John Bollinger's](https://www.nist.gov/people/john-j-bollinger) Penning Trap at NIST:"
   ]
  },
  {
   "cell_type": "code",
   "execution_count": 4,
   "metadata": {},
   "outputs": [],
   "source": [
    "mode_analysis = mode_analysis_code.ModeAnalysis(N=127,\n",
    "                                                Vtrap=(0.0, -1750.0, -2000.0),\n",
    "                                                Vwall=5.0,\n",
    "                                                frot=180.0)\n",
    "\n",
    "mode_analysis.run()"
   ]
  },
  {
   "cell_type": "code",
   "execution_count": 5,
   "metadata": {},
   "outputs": [],
   "source": [
    "omega = 1.02*mode_analysis.wrot\n",
    "trap_potential = TrapPotential(2.0 * mode_analysis.Coeff[2], mode_analysis.Cw, mode_analysis.wrot, np.pi / 2.0)\n",
    "trap_potential.phi = np.pi / 2.0\n",
    "trap_potential.omega = omega"
   ]
  },
  {
   "cell_type": "markdown",
   "metadata": {},
   "source": [
    "The `mode_analysis_code` contains the code that will allow us to determine the axial modes, and we instatiate such an analysis by giving the trap parameters below.  Performing the class method `ModeAnalysis.run()` can take some time depending on ion number, so it is advised to run this only when changing the parameters of the ion crystal.\n",
    "\n",
    "Next, we look at the axial eigenvalues."
   ]
  },
  {
   "cell_type": "code",
   "execution_count": 6,
   "metadata": {},
   "outputs": [],
   "source": [
    "#mode_analysis.show_axial_Evals();"
   ]
  },
  {
   "cell_type": "markdown",
   "metadata": {},
   "source": [
    "![Axial Eigenvalues](./images/axEvals127.png)"
   ]
  },
  {
   "cell_type": "markdown",
   "metadata": {},
   "source": [
    "Note that the frequency increases with mode number.  However, much of the [literature](https://journals.aps.org/prl/abstract/10.1103/PhysRevLett.108.213003) references the highest frequency mode (Center of Mass mode) as mode 1 with frequency $\\omega_1$\n",
    "\n",
    "The plot above gives the frequencies in units of $\\omega_z$.  This is the axial trap frequency,and is given as:\n",
    "\\begin{align*}\n",
    "    \\omega_z &= \\sqrt{\\frac{2q \\left({\\tt self.Coeff[2]}\\right)}{m}}\n",
    "\\end{align*}\n",
    "\n",
    "`mode_analysis_code` cites this as coming from \"Teale's last paper\", but I have not found a direct source yet."
   ]
  },
  {
   "cell_type": "markdown",
   "metadata": {},
   "source": [
    "### <a name=\"IC\"></a>Inital Conditions\n",
    "\n",
    "`mode_analysis.run()` finds the eigenvectors representing the various modes.  Because Freerick's code finds these by converting N 2<sup>nd</sup> order equations into 2N 1<sup>st</sup> order equation, we get two eigenvectors for each mode.  Each vector has as its first half the position of each ion, and the second half the velocities.  These can be combined through addition to create a vector representing the system oscillating at the frequency of interest, but with a pure positional component (no velocities).  We can then read off the first half of these 2N dimensional vectors to get the crystal in its 'pure' potential energy state.\n",
    "\n",
    "The eigenvectors are initially normalized based on their energy.  By taking the first half as $\\left|z\\right \\rangle$ and the second as $\\left|v\\right \\rangle$, the harmonic expansion of the energy is:\n",
    "\n",
    "\\begin{align*}\n",
    "    E &= \\frac{1}{2} \\left( \\left \\langle v \\right| M \\left| v \\right \\rangle - \\left \\langle z \\right| K \\left| z \\right \\rangle \\right)\n",
    "\\end{align*}\n",
    "\n",
    "Thus, we have a way of placing the simulated ion crystal in a desired mode with a specified energy.\n",
    "\n",
    "As a sanity check, we look at the initial conditions of each crystal after being placed in a given mode, scaled to the typical length scale of the trap, rather than a specific energy.  As can be seen, the images of the crystals placed in various modes correspond to our expectations:"
   ]
  },
  {
   "cell_type": "code",
   "execution_count": 7,
   "metadata": {},
   "outputs": [],
   "source": [
    "def show_crystal(mode_num):\n",
    "    \n",
    "    #idx = np.arange(mode_analysis.Nion)+1\n",
    "    \n",
    "    modal_positions = []\n",
    "    \n",
    "    modal_ensemble = create_ensemble(mode_analysis.uE,\n",
    "                              mode_analysis.wrot,\n",
    "                              mode_analysis.m_Be,\n",
    "                              mode_analysis.q)\n",
    "    \n",
    "    # Based on desired mode number, establish ICs with z-components\n",
    "    eigVect1 = mode_analysis.axialEvects[:, -2*mode_num]\n",
    "    eigVect2 = mode_analysis.axialEvects[:, -2*mode_num + 1]\n",
    "    combo = eigVect1 + eigVect2# choose this combination of eigenvectors to get a 'pure' position state\n",
    "    \n",
    "    z_pos = combo[:mode_analysis.Nion]\n",
    "    modal_ensemble.x[:,2] = z_pos*mode_analysis.l0\n",
    "    \n",
    "    x_lim = 1.5e-4\n",
    "    z_lim = np.abs([modal_ensemble.x[:,2].max(), modal_ensemble.x[:,2].min()]).max()*1.1\n",
    "    \n",
    "    plt.tight_layout()\n",
    "    fig = plt.figure(figsize=(12,4))\n",
    "    \n",
    "    ax1 = fig.add_subplot(131)\n",
    "    ax1.plot(modal_ensemble.x[:,0], modal_ensemble.x[:,2], 'go', ms=3)\n",
    "    ax1.set_xlim(-x_lim, x_lim)\n",
    "    ax1.set_ylim(-z_lim, z_lim)\n",
    "    \n",
    "    axTop = fig.add_subplot(132)\n",
    "    axTop.scatter(modal_ensemble.x[:,0], modal_ensemble.x[:,1], c = modal_ensemble.x[:,2],\n",
    "                  cmap = plt.cm.coolwarm, norm = matplotlib.colors.Normalize(vmin = -z_lim, vmax = z_lim))\n",
    "    axTop.set_xlim(-x_lim, x_lim)\n",
    "    axTop.set_ylim(-x_lim, x_lim)\n",
    "#     ax.set_aspect('equal', 'datalim')\n",
    "    \n",
    "    ax2 = fig.add_subplot(133, sharey = ax1)\n",
    "    ax2.plot(modal_ensemble.x[:,1], modal_ensemble.x[:,2], 'go', ms=3)\n",
    "    ax2.set_xlim(-x_lim, x_lim)\n",
    "    ax2.set_ylim(-z_lim, z_lim)\n",
    "    \n",
    "    plt.setp(ax2.get_yticklabels(), visible=False)\n",
    "    plt.setp(axTop.get_yticklabels(), visible=False)\n",
    "    plt.setp(ax2.get_xticklabels(), visible=False)\n",
    "    plt.setp(ax1.get_xticklabels(), visible=False)\n",
    "    \n",
    "    axTop.xaxis.set_major_locator(plt.MaxNLocator(3))\n",
    "    ax1.yaxis.set_major_locator(plt.MaxNLocator(5))\n",
    "    \n",
    "    ax1.set_title('Side: Along y-axis')\n",
    "    axTop.set_title('Mode {}:\\nTop View'.format(np.abs(mode_num)))\n",
    "    ax2.set_title('Side: Along x-axis')"
   ]
  },
  {
   "cell_type": "code",
   "execution_count": 8,
   "metadata": {
    "scrolled": false
   },
   "outputs": [],
   "source": [
    "# for i in range(10):\n",
    "#     show_crystal(i+1)\n",
    "    \n",
    "# show_crystal(127)"
   ]
  },
  {
   "cell_type": "markdown",
   "metadata": {},
   "source": [
    "![Mode 1](./images/view_m001.png)\n",
    "![Mode 2](./images/view_m002.png)\n",
    "![Mode 3](./images/view_m003.png)\n",
    "![Mode 4](./images/view_m004.png)\n",
    "![Mode 5](./images/view_m005.png)\n",
    "![Mode 6](./images/view_m006.png)\n",
    "![Mode 7](./images/view_m007.png)\n",
    "![Mode 8](./images/view_m008.png)\n",
    "![Mode 9](./images/view_m009.png)\n",
    "![Mode 10](./images/view_m010.png)\n",
    "![Mode 1127](./images/view_m127.png)\n",
    "\n",
    "As a sanity check, we note that we observe similar shapes for alternating modes, i.e., modes 2 and 3 appear to be simple rotations of each other.  However, these crystals do not posess this rotational symmetry.  There is a slight elongation owing to the rotating wall potential, and we see that the higher frequency modes has the displacement along this longer axis.\n",
    "\n",
    "Also of note: we plot the highest mode (lowest frequency) to demonstrate the \"low frequency/low effective wavelength\" phenomena.\n",
    "\n",
    "Apparently, it is experimentally difficult to experimentally resolve/distinguish modes higher than the 10<sup>th</sup>, so we limit our investigations to these modes.  Higher modes can be generated by simply choosing the desired mode number."
   ]
  },
  {
   "cell_type": "markdown",
   "metadata": {},
   "source": [
    "### <a name=\"Evolution\"></a>Evolution\n",
    "\n",
    "Now that we are confident about our initial state, we proceed by evolving our state.  Depending on our goal, we can include the effect of the cooling lasers or not.  Since we are looking into nonlinear level shifts, we choose not to include them.  This process is controlled by `mode_evolution`.\n",
    "\n",
    "We start by creating a list to store the z-positions of each ion at desired points in the time evolution of the crystal (this is parameterized by `num_dump`).  We use the `coldatoms.bend_kick` method to evolve the given number of time steps between recording positions.  Once we have obtained all the positions, we obtain the Power Spectral Density (PSD) of the time series.  As an option, we can have the function return a plot of the PSD, or just directly obtain the frequencies (in Hz) and power at each frequency (in arbitrary units)."
   ]
  },
  {
   "cell_type": "code",
   "execution_count": 9,
   "metadata": {},
   "outputs": [],
   "source": [
    "x = mode_analysis.u[:mode_analysis.Nion]\n",
    "y = mode_analysis.u[mode_analysis.Nion:]\n",
    "\n",
    "dx = x.reshape((x.size, 1)) - x\n",
    "dy = y.reshape((y.size, 1)) - y\n",
    "rsep = np.sqrt(dx ** 2 + dy ** 2)\n",
    "\n",
    "with np.errstate(divide='ignore'):\n",
    "    rsep3 = np.where(rsep != 0., rsep ** (-3), 0)\n",
    "\n",
    "K = np.diag((-1 + 0.5 * np.sum(rsep3, axis=0)))\n",
    "K -= 0.5 * rsep3\n",
    "K = np.mat(K)\n",
    "\n",
    "Mmat = np.diag(mode_analysis.md)\n",
    "Mmat = np.mat(Mmat)\n",
    "\n",
    "def plot_spectrum(x,y,mode_num):\n",
    "    \"\"\"\n",
    "    mode_num is referenced from highest freq:  mode_num=1 is COM mode, =2 is 1st excited, etc.\n",
    "    \"\"\"\n",
    "    mode_freq = mode_analysis.axialEvalsE[-mode_num]/(2*np.pi)\n",
    "    idx = np.arange(mode_analysis.Nion)+1\n",
    "    # Axial trap frequency, for reference\n",
    "    ν_z = np.sqrt(2*mode_analysis.q*mode_analysis.Coeff[2]/mode_analysis.m_Be)/(2*np.pi)\n",
    "\n",
    "    # The following is used for positioning the annotations in the plot\n",
    "    exps = np.log10(y)\n",
    "    mode_point = 10**(.25*exps.max() + .75*exps.min())\n",
    "    trap_point = 10**(.75*exps.max() + .25*exps.min())\n",
    "\n",
    "    # Make a plot!\n",
    "    fig, ax = plt.subplots()\n",
    "    ax.semilogy(x / 1.0e6, y)\n",
    "    ax.axvline(x=mode_freq/1.0e6, c='k')\n",
    "    ax.axvline(x=ν_z/1.0e6, c='b')\n",
    "    ax.annotate('Mode\\nFrequency', xy=(mode_freq/1.0e6, mode_point), xytext=(mode_freq/1.0e6-0.12, mode_point), \n",
    "                arrowprops=dict(facecolor='black', shrink=0.05))\n",
    "    ax.annotate(r'$\\nu_z$', xy = (ν_z/1.0e6, trap_point), xytext=(1.65,trap_point),\n",
    "               arrowprops=dict(facecolor='blue', shrink=0.05))\n",
    "    ax.set_xlim(1.3, 1.7)#0.525 * (x[-1]/2.) / 1.0e6, 0.7 * (x[-1]/2.) / 1.0e6)\n",
    "    ax.set_xlabel(r'$\\nu / \\rm{MHz}$')\n",
    "    ax.set_ylabel(r'PSD($z$)')\n",
    "    ax.set_title(r'Evolution from Mode {}'.format(np.abs(mode_num)))\n",
    "    \n",
    "    fig.show()\n",
    "    \n",
    "\n",
    "def mode_evolution(mode_number, energy = 1.,\n",
    "                    t_max = 2.0e-3, dt = 4.0e-9, num_dump = 50, cooling = False, show_plot = False):\n",
    "    \"\"\"\n",
    "    Caution: This can take a long time to run through.\n",
    "    mode_number: Counts in descending order of mode frequency.\n",
    "                 = 1 is COM mode\n",
    "                 = 2 is first excited\n",
    "                 etc\n",
    "    energy: in units of mode_analysis.E0\n",
    "    \n",
    "    TODO:\n",
    "    Need to make sure mode_analysis has already run\n",
    "    \"\"\"\n",
    "    \n",
    "    num_steps = int(np.ceil(t_max / dt))\n",
    "    \n",
    "    modal_positions = [] #instantiate array to hold z-positions as crystal evolves\n",
    "    \n",
    "    # Create new ensemble from mode_analysis.\n",
    "    modal_ensemble = create_ensemble(mode_analysis.uE,\n",
    "                                    mode_analysis.wrot,\n",
    "                                    mode_analysis.m_Be,\n",
    "                                    mode_analysis.q)\n",
    "    \n",
    "    # Based on desired mode number, establish ICs with z-components based on eigenmode\n",
    "    eigVect1 = mode_analysis.axialEvects[:, -2*mode_number]\n",
    "    eigVect2 = mode_analysis.axialEvects[:, -2*mode_number + 1]\n",
    "    \n",
    "    print(-2*mode_number)\n",
    "    print(-2*mode_number+1)\n",
    "    \n",
    "    combo = eigVect1 + eigVect2 # Choose this combo to get a 'pure' position state\n",
    "    \n",
    "    z_pos = combo[:mode_analysis.Nion]\n",
    "    z_vel = combo[mode_analysis.Nion:]\n",
    "    \n",
    "    z_x = np.mat(z_pos.reshape((mode_analysis.Nion,1)))\n",
    "    z_v = np.mat(z_vel.reshape((mode_analysis.Nion,1)))\n",
    "    \n",
    "    combo_energy = 0.5*z_v.H*Mmat*z_v - 0.5*z_x.H*K*z_x # compute energy of eigenvector combination\n",
    "    \n",
    "    z_pos = np.sqrt(energy/combo_energy)*z_pos\n",
    "    z_vel = np.sqrt(energy/combo_energy)*z_vel\n",
    "    \n",
    "    modal_ensemble.x[:,2] = z_pos * mode_analysis.l0\n",
    "    modal_ensemble.v[:,2] = z_vel * mode_analysis.v0 # Should be within computer error of zero\n",
    "    \n",
    "    # Establish positions and evolve, as per Dominic's Example\n",
    "    if cooling:\n",
    "        modal_positions.append(np.copy(modal_ensemble.x))\n",
    "        for i in range(num_steps // num_dump):\n",
    "            coldatoms.bend_kick(dt, mode_analysis.B, modal_ensemble,\n",
    "                               [coulomb_force, trap_potential]+cooling_beams,\n",
    "                               num_steps = num_dump)\n",
    "            modal_positions.append(np.copy(modal_ensemble.x))\n",
    "        modal_positions = np.array(modal_positions)\n",
    "        \n",
    "    else:\n",
    "        modal_positions.append(np.copy(modal_ensemble.x))\n",
    "        for i in range(num_steps // num_dump):\n",
    "            coldatoms.bend_kick(dt, mode_analysis.B, modal_ensemble,\n",
    "                               [coulomb_force, trap_potential],\n",
    "                               num_steps = num_dump)\n",
    "            modal_positions.append(np.copy(modal_ensemble.x))\n",
    "        modal_positions = np.array(modal_positions)\n",
    "        \n",
    "    \n",
    "    # Convert time series to frequency data\n",
    "    delta_t = num_dump * dt\n",
    "    nu_nyquist = 0.5 / delta_t\n",
    "    nu_axis = np.linspace(0.0, 2.0 * nu_nyquist, modal_positions.shape[0])\n",
    "        \n",
    "    freq_data = np.sum(np.abs(np.fft.fft(modal_positions[:,:,2], axis=0))**2, axis=1)\n",
    "    \n",
    "    if show_plot:\n",
    "        plot_spectrum(nu_axis, freq_data, mode_number)\n",
    "\n",
    "    return nu_axis, freq_data"
   ]
  },
  {
   "cell_type": "markdown",
   "metadata": {},
   "source": [
    "As a precaution, the `mode_evolution` function will take several minutes to complete at the default parameters.  For reference, we show the trap's axial frequency $\\nu_z$, along with the frequency of the induced mode.\n",
    "\n",
    "To demonstrate the behavior of these functions, we show the plots they return for modes 1 (COM) and 2:"
   ]
  },
  {
   "cell_type": "code",
   "execution_count": 10,
   "metadata": {
    "scrolled": false
   },
   "outputs": [],
   "source": [
    "# mode_evolution(1, show_plot=True);\n",
    "# mode_evolution(2, show_plot=True);\n",
    "# mode_evolution(3, show_plot=True);\n",
    "# mode_evolution(4, show_plot=True);"
   ]
  },
  {
   "cell_type": "markdown",
   "metadata": {},
   "source": [
    "*NOTE*: This was not working before.  I had to insert `omega = 1.02 * mode_analysis.wrot`, `trap_potential.phi = np.pi / 2.0`, and `trap_potential.omega = omega` in the code block following [Kerr Simulations](#Kerr) to get this to work as in Dominic's example.\n",
    "\n",
    "I need to figure out how this parameter affects the simulations."
   ]
  },
  {
   "cell_type": "markdown",
   "metadata": {},
   "source": [
    "![mode 1 evolution](./images/evolve_m001.png)\n",
    "![mode 2 evolution](./images/evolve_m002.png)\n",
    "![mode 3 evolution](./images/evolve_m003.png)\n",
    "\n",
    "In the first plot, we see that, as expected, the first mode has no coupling to other modes.  This makes sense, as the COM mode has no change in the relative positions of each ion as the crystal evolves, and so the anharmonic coulomb terms can't 'push' the crystal into different modes.  Additionally, the peak of the COM Power Spectral Density (PSD) aligns with the trap's frequency.\n",
    "\n",
    "In the COM mode, we observe a 'width' around the mode frequency.  This is not evidence of mode 'spreading,' but instead an artefact from the use the the FFT algorithm.  Running the simulation for longer times and/or shorter time steps results in a thinner peak.\n",
    "\n",
    "When we look at the evolution of mode 2, we begin to see amplitudes from other modes creeping into the PSD.  The largest peak in the spectrum appears at the induced mode frequency, but there are significant peaks at higher frequencies, as well as what could be some mixed frequency of the COM mode.\n",
    "\n",
    "However, these might be ghosts from the chosen resolution at which we performed the FFT.  We will explore the behavior in greater resolution further on.\n",
    "\n",
    "* Note:  We should look at introducing nonlinear terms into the trap term and see what behavior comes out\n",
    "* While the COM mode can't couple to other modes, is it necessarily true that other modes can't couple to the COM?  Is there some weird way in which higher modes can conspire to force themselves into a COM?  This seems to violate time-reversal, but if we have energy coming and going, rather than being conserved, this might be ok.\n"
   ]
  },
  {
   "cell_type": "markdown",
   "metadata": {},
   "source": [
    "### <a name=\"EnergyComparisons\"></a>  Energy Comparisons\n",
    "\n",
    "To get an idea of the differences in how the initial energy of an eigenmode affects its future dynamics, we need to specify an 'energy mesh' and evaluate PSDs at the given intervals.  As mentioned above, it is difficult to distinguish higher order modes the mode 10, so we specify the default parameter to include only modes 1 through 10.\n",
    "\n",
    "The below function takes as an input the desired modes, the energy mesh, and the filename to which the program should save the resulting data to.  Note, this function can take a *very* long time to run, depending on the modes, mesh, dt, and t_max.\n",
    "\n",
    "TODO:  NOTE: each element in `x_freq` should be identical.  This is tested at the end to counter potential bugs."
   ]
  },
  {
   "cell_type": "code",
   "execution_count": 11,
   "metadata": {},
   "outputs": [],
   "source": [
    "def generate_PSDvsE(storage_directory, \n",
    "                    modes = np.arange(1,9), eMesh = np.linspace(1,5,5),\n",
    "                    max_time = 10.0e-3, t_step = 1.0e-9 ):\n",
    "    \n",
    "    PSD_data = pd.DataFrame(index = modes, columns = eMesh)\n",
    "    PSD_data.index.name = 'mode_number'\n",
    "    PSD_data.columns.name = 'energy'\n",
    "    \n",
    "    \n",
    "    for e in eMesh:\n",
    "        for m in modes:\n",
    "            print('Mode {} at Energy {}*E0:'.format(m, e))\n",
    "            x_freq, PSD_data.loc[m,e] = mode_evolution(m, energy = e, dt = t_step, t_max = max_time)\n",
    "            \n",
    "            print('Mode {} at Energy {}*E0 complete\\n'.format(m, e))\n",
    "            \n",
    "    np.save(storage_directory + 'freqs', x_freq)\n",
    "    PSD_data.to_pickle(storage_directory + 'PSD_data')"
   ]
  },
  {
   "cell_type": "code",
   "execution_count": 12,
   "metadata": {},
   "outputs": [
    {
     "name": "stdout",
     "output_type": "stream",
     "text": [
      "Mode 1 at Energy 1.0*E0:\n",
      "-2\n",
      "-1\n"
     ]
    },
    {
     "name": "stderr",
     "output_type": "stream",
     "text": [
      "/usr/local/lib/python3.5/dist-packages/ipykernel_launcher.py:93: ComplexWarning: Casting complex values to real discards the imaginary part\n",
      "/usr/local/lib/python3.5/dist-packages/ipykernel_launcher.py:94: ComplexWarning: Casting complex values to real discards the imaginary part\n"
     ]
    },
    {
     "name": "stdout",
     "output_type": "stream",
     "text": [
      "Mode 1 at Energy 1.0*E0 complete\n",
      "\n",
      "Mode 2 at Energy 1.0*E0:\n",
      "-4\n",
      "-3\n",
      "Mode 2 at Energy 1.0*E0 complete\n",
      "\n",
      "Mode 1 at Energy 1.5*E0:\n",
      "-2\n",
      "-1\n",
      "Mode 1 at Energy 1.5*E0 complete\n",
      "\n",
      "Mode 2 at Energy 1.5*E0:\n",
      "-4\n",
      "-3\n",
      "Mode 2 at Energy 1.5*E0 complete\n",
      "\n",
      "Mode 1 at Energy 2.0*E0:\n",
      "-2\n",
      "-1\n",
      "Mode 1 at Energy 2.0*E0 complete\n",
      "\n",
      "Mode 2 at Energy 2.0*E0:\n",
      "-4\n",
      "-3\n",
      "Mode 2 at Energy 2.0*E0 complete\n",
      "\n"
     ]
    }
   ],
   "source": [
    "generate_PSDvsE('./TRASH/test/', \n",
    "                modes = np.arange(1,3), eMesh = np.linspace(1,2,3), \n",
    "                max_time=1e-3, t_step=100e-9)"
   ]
  },
  {
   "cell_type": "code",
   "execution_count": 13,
   "metadata": {},
   "outputs": [],
   "source": [
    "def plot_PSDvsE(data_dir):\n",
    "    \"\"\"\n",
    "    Function assumes directory data was generated from generate_PSDvsE\n",
    "    data_dir is the storage directory for this data\n",
    "    \"\"\"\n",
    "    \n",
    "    x = np.load(data_dir + 'freqs.npy') # 1D numpy array\n",
    "    PSD_data = pd.read_pickle(data_dir + 'PSD_data') # big pandas dataframe\n",
    "\n",
    "    cmap = plt.cm.coolwarm\n",
    "    rcParams['axes.prop_cycle'] = cycler(color=cmap(np.linspace(0,1,len(PSD_data.columns))))\n",
    "    \n",
    "    for m in PSD_data.index: # for each mode:\n",
    "        mode_freq = mode_analysis.axialEvalsE[-m]/(2*np.pi) # mode frequency\n",
    "        ν_z = np.sqrt(2*mode_analysis.q*mode_analysis.Coeff[2]/mode_analysis.m_Be)/(2*np.pi) # trap frequency\n",
    "        \n",
    "        # Make a plot!\n",
    "        \n",
    "        fig, ax = plt.subplots(figsize = (12,10))\n",
    "        \n",
    "        for e in PSD_data.columns:\n",
    "            y = PSD_data.loc[m,e]\n",
    "            \n",
    "            ax.semilogy(x / 1.0e6, y, label = r'Energy = {} $E_0$'.format(e))\n",
    "            \n",
    "        exps = np.log10(y)\n",
    "        mode_point = 10**(.25*exps.max() + .75*exps.min())\n",
    "        trap_point = 10**(.7*exps.max() + .3*exps.min())\n",
    "        \n",
    "        for i in np.arange(1,11):\n",
    "            ax.axvline(x=mode_analysis.axialEvalsE[-i]/(2*np.pi)/1.0e6, c='g')\n",
    "            \n",
    "        ax.axvline(x=mode_freq/1.0e6, c='k')\n",
    "        \n",
    "        ax.axvline(x=ν_z/1.0e6, c='b')\n",
    "        ax.annotate('Mode\\nFrequency', xy=(mode_freq/1.0e6, mode_point), xytext=(mode_freq/1.0e6-0.02, mode_point), \n",
    "                    arrowprops=dict(facecolor='black', shrink=0.05))\n",
    "        ax.annotate(r'$\\nu_z$', xy = (ν_z/1.0e6, trap_point), xytext=(1.63,trap_point),\n",
    "                   arrowprops=dict(facecolor='blue', shrink=0.05))\n",
    "        ax.set_xlim(1.5, 1.65)#0.525 * (x[-1]/2.) / 1.0e6, 0.7 * (x[-1]/2.) / 1.0e6)\n",
    "        ax.set_xlabel(r'$\\nu / \\rm{MHz}$')\n",
    "        ax.set_ylabel(r'PSD($z$)')\n",
    "        ax.set_title(r'Evolution from Mode {}'.format(m))\n",
    "        ax.legend(loc='best')\n",
    "\n",
    "        fig.show()\n",
    "        \n",
    "# LETS THROW IN A GRATING HERE TO SHOW WHERE THE NORMAL MODE FREQUENCIES EXIST"
   ]
  },
  {
   "cell_type": "code",
   "execution_count": 14,
   "metadata": {
    "scrolled": false
   },
   "outputs": [],
   "source": [
    "# plot_PSDvsE('../Data/ion-trapping-notes/exhaustive/')"
   ]
  },
  {
   "cell_type": "markdown",
   "metadata": {},
   "source": [
    "![PSD Mode 1](./images/hiRes/PSDvsE_m001.png)\n",
    "![PSD Mode 2](./images/hiRes/PSDvsE_m002.png)\n",
    "![PSD Mode 3](./images/hiRes/PSDvsE_m003.png)\n",
    "![PSD Mode 4](./images/hiRes/PSDvsE_m004.png)\n",
    "![PSD Mode 5](./images/hiRes/PSDvsE_m005.png)\n",
    "![PSD Mode 6](./images/hiRes/PSDvsE_m006.png)\n",
    "![PSD Mode 7](./images/hiRes/PSDvsE_m007.png)\n",
    "![PSD Mode 8](./images/hiRes/PSDvsE_m008.png)"
   ]
  },
  {
   "cell_type": "markdown",
   "metadata": {},
   "source": [
    "# TODO\n",
    "\n",
    "* Start looking at how the energy of the eigenmode changes the frequencies\n",
    "    * Put up a 'fence' of where the eigenfrequencies are and integrate the PSD to get the total power within each fence post.\n",
    "    * How much energy are the modes normalized to?  Is it unity?  self.E0 in experimental units?\n",
    "    * Put in a parameter to adjust how much energy is thrown in.\n",
    "    * Instead of putting up the fence, look for local maxima or peaks?  We know how many modes there are, but how do we distinguish the real peak from additive noise?\n",
    "* Do some kind of error characterization of the result.  Maybe we can get error bars for our plot\n",
    "* Talk with Dominic.\n",
    "    * Reread his chat messages.  Nail down where the anharmonicities are.\n",
    "    * Are they implemented in the bend-kick function?\n",
    "    * How do we get the Harmonic approximation eigenmodes to spread in the evolution?\n",
    "    \n",
    "* Arghavans suggestion:  Start looking at higher order terms in the hamiltonian.  What effect do they have on the eigenmodes?\n"
   ]
  },
  {
   "cell_type": "code",
   "execution_count": null,
   "metadata": {},
   "outputs": [],
   "source": []
  }
 ],
 "metadata": {
  "kernelspec": {
   "display_name": "Python 3",
   "language": "python",
   "name": "python3"
  },
  "language_info": {
   "codemirror_mode": {
    "name": "ipython",
    "version": 3
   },
   "file_extension": ".py",
   "mimetype": "text/x-python",
   "name": "python",
   "nbconvert_exporter": "python",
   "pygments_lexer": "ipython3",
   "version": "3.5.2"
  }
 },
 "nbformat": 4,
 "nbformat_minor": 2
}
